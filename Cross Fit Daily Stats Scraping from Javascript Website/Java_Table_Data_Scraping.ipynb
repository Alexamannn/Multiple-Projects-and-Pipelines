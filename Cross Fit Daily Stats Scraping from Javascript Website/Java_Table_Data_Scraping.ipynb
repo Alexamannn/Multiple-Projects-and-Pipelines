{
  "nbformat": 4,
  "nbformat_minor": 0,
  "metadata": {
    "colab": {
      "name": "Java Table Data Scraping.ipynb",
      "provenance": []
    },
    "kernelspec": {
      "name": "python3",
      "display_name": "Python 3"
    }
  },
  "cells": [
    {
      "cell_type": "code",
      "metadata": {
        "id": "Jc6emOrsSha5"
      },
      "source": [
        "#from google.colab import drive\r\n",
        "#drive.mount('/content/drive')"
      ],
      "execution_count": 74,
      "outputs": []
    },
    {
      "cell_type": "code",
      "metadata": {
        "colab": {
          "base_uri": "https://localhost:8080/"
        },
        "id": "jhuNA9r6OJ4h",
        "outputId": "d9e7032c-2317-4d77-8d4a-e5e446ec9649"
      },
      "source": [
        "paggggge=int(input()) #put 0 for all ,maximum pages,or else select number of pages"
      ],
      "execution_count": 75,
      "outputs": [
        {
          "output_type": "stream",
          "text": [
            "3\n"
          ],
          "name": "stdout"
        }
      ]
    },
    {
      "cell_type": "code",
      "metadata": {
        "colab": {
          "base_uri": "https://localhost:8080/"
        },
        "id": "pAZUgSflNALd",
        "outputId": "87b9d771-b9ab-47ec-fcb0-14b34e010b2f"
      },
      "source": [
        "!pip install -q selenium\r\n",
        "!apt-get update\r\n",
        "!apt install chromium-chromedriver\r\n",
        "!cp /usr/lib/chromium-browser/chromedriver /usr/bin\r\n",
        "import sys\r\n",
        "sys.path.insert(0,'/usr/lib/chromium-browser/chromedriver')\r\n",
        "from selenium import webdriver\r\n",
        "chrome_options = webdriver.ChromeOptions()\r\n",
        "chrome_options.add_argument('--headless')\r\n",
        "chrome_options.add_argument('--no-sandbox')\r\n",
        "chrome_options.add_argument('--disable-dev-shm-usage')"
      ],
      "execution_count": 76,
      "outputs": [
        {
          "output_type": "stream",
          "text": [
            "\r0% [Working]\r            \rHit:1 http://security.ubuntu.com/ubuntu bionic-security InRelease\n",
            "\r0% [Connecting to archive.ubuntu.com (91.189.88.152)] [Connecting to cloud.r-pr\r0% [1 InRelease gpgv 88.7 kB] [Connecting to archive.ubuntu.com (91.189.88.152)\r                                                                               \rIgn:2 https://developer.download.nvidia.com/compute/cuda/repos/ubuntu1804/x86_64  InRelease\n",
            "\r0% [1 InRelease gpgv 88.7 kB] [Waiting for headers] [Connected to cloud.r-proje\r                                                                               \rHit:3 https://cloud.r-project.org/bin/linux/ubuntu bionic-cran40/ InRelease\n",
            "\r0% [1 InRelease gpgv 88.7 kB] [Waiting for headers] [Waiting for headers] [Wait\r                                                                               \rHit:4 http://archive.ubuntu.com/ubuntu bionic InRelease\n",
            "\r                                                                               \rHit:5 http://ppa.launchpad.net/c2d4u.team/c2d4u4.0+/ubuntu bionic InRelease\n",
            "\r0% [1 InRelease gpgv 88.7 kB] [Waiting for headers] [Connecting to ppa.launchpa\r                                                                               \rIgn:6 https://developer.download.nvidia.com/compute/machine-learning/repos/ubuntu1804/x86_64  InRelease\n",
            "\r0% [1 InRelease gpgv 88.7 kB] [Waiting for headers] [Connecting to ppa.launchpa\r                                                                               \rHit:7 https://developer.download.nvidia.com/compute/cuda/repos/ubuntu1804/x86_64  Release\n",
            "\r0% [1 InRelease gpgv 88.7 kB] [Waiting for headers] [Connecting to ppa.launchpa\r                                                                               \rHit:8 https://developer.download.nvidia.com/compute/machine-learning/repos/ubuntu1804/x86_64  Release\n",
            "Hit:9 http://archive.ubuntu.com/ubuntu bionic-updates InRelease\n",
            "Hit:10 http://archive.ubuntu.com/ubuntu bionic-backports InRelease\n",
            "Hit:11 http://ppa.launchpad.net/cran/libgit2/ubuntu bionic InRelease\n",
            "Hit:12 http://ppa.launchpad.net/deadsnakes/ppa/ubuntu bionic InRelease\n",
            "Hit:13 http://ppa.launchpad.net/graphics-drivers/ppa/ubuntu bionic InRelease\n",
            "Reading package lists... Done\n",
            "Reading package lists... Done\n",
            "Building dependency tree       \n",
            "Reading state information... Done\n",
            "chromium-chromedriver is already the newest version (87.0.4280.66-0ubuntu0.18.04.1).\n",
            "0 upgraded, 0 newly installed, 0 to remove and 46 not upgraded.\n",
            "cp: '/usr/lib/chromium-browser/chromedriver' and '/usr/bin/chromedriver' are the same file\n"
          ],
          "name": "stdout"
        }
      ]
    },
    {
      "cell_type": "code",
      "metadata": {
        "id": "cG95YAahQ-re"
      },
      "source": [
        "from selenium.webdriver.support.ui import WebDriverWait\r\n",
        "from selenium.webdriver.common.by import By\r\n",
        "from selenium.webdriver.support import expected_conditions as EC\r\n",
        "from selenium.webdriver.common.by import By\r\n",
        "from selenium import webdriver\r\n",
        "from selenium.webdriver.common.keys import Keys"
      ],
      "execution_count": 77,
      "outputs": []
    },
    {
      "cell_type": "code",
      "metadata": {
        "colab": {
          "base_uri": "https://localhost:8080/"
        },
        "id": "HMynWlwfM1Ub",
        "outputId": "57660006-75a4-47f9-cbff-3a32cadb5602"
      },
      "source": [
        "from pandas.io.html import read_html\r\n",
        "from selenium import webdriver\r\n",
        "import time \r\n",
        "\r\n",
        "\r\n",
        "\r\n",
        "driver =webdriver.Chrome('chromedriver',chrome_options=chrome_options)\r\n",
        "\r\n",
        "driver.get('https://games.crossfit.com/leaderboard/open/2021?view=0&division=1&region=0&scaled=0&sort=0')\r\n",
        "\r\n"
      ],
      "execution_count": 78,
      "outputs": [
        {
          "output_type": "stream",
          "text": [
            "/usr/local/lib/python3.7/dist-packages/ipykernel_launcher.py:7: DeprecationWarning: use options instead of chrome_options\n",
            "  import sys\n"
          ],
          "name": "stderr"
        }
      ]
    },
    {
      "cell_type": "code",
      "metadata": {
        "id": "hUhw8vtyoWiB"
      },
      "source": [
        "element = driver.find_element_by_xpath('//*[@id=\"pp-cookie-accept\"]')\r\n",
        " \r\n",
        "element.click()\r\n"
      ],
      "execution_count": 79,
      "outputs": []
    },
    {
      "cell_type": "code",
      "metadata": {
        "id": "IyLlsiI6pOVJ"
      },
      "source": [
        " \r\n",
        "c=driver.find_element_by_xpath('//*[@id=\"PopupSignupForm_0\"]/div[2]/div[1]')\r\n",
        "c.click()\r\n"
      ],
      "execution_count": 80,
      "outputs": []
    },
    {
      "cell_type": "code",
      "metadata": {
        "id": "azOl9M4HUDOA"
      },
      "source": [
        "table = driver.find_element_by_xpath('//*[@id=\"leaderboardSponsorVisible\"]/div/table')\r\n"
      ],
      "execution_count": 81,
      "outputs": []
    },
    {
      "cell_type": "code",
      "metadata": {
        "id": "IFTIbJ-eX9tm"
      },
      "source": [
        "import pandas as pd\r\n",
        "columns = ['names','rank','points']\r\n",
        "x=pd.DataFrame(columns=columns)\r\n"
      ],
      "execution_count": 82,
      "outputs": []
    },
    {
      "cell_type": "code",
      "metadata": {
        "id": "bVi9WITb7Bjn"
      },
      "source": [
        "page=[]\r\n",
        "maxpage=driver.find_elements_by_xpath('//*[@id=\"leaderboardSponsorVisible\"]/div/div[3]//div/div[2]')\r\n",
        "for i in maxpage:\r\n",
        "   page.append(i.text)"
      ],
      "execution_count": 83,
      "outputs": []
    },
    {
      "cell_type": "code",
      "metadata": {
        "id": "sL934mfz8c1n"
      },
      "source": [
        "max=int(page[0][8:15])"
      ],
      "execution_count": 84,
      "outputs": []
    },
    {
      "cell_type": "code",
      "metadata": {
        "id": "GDh-YKDRN4qh"
      },
      "source": [
        "if paggggge == 0:\r\n",
        "       paggggge=max"
      ],
      "execution_count": 85,
      "outputs": []
    },
    {
      "cell_type": "code",
      "metadata": {
        "id": "B0tngEqpBWPB"
      },
      "source": [
        "inputElement = driver.find_element_by_xpath('//*[@id=\"leaderboardSponsorVisible\"]/div/div[3]/div/form/input')\r\n",
        "driver.find_element_by_xpath('//*[@id=\"leaderboardSponsorVisible\"]/div/div[3]/div/form/input').clear()\r\n",
        "\r\n",
        "namess=[]\r\n",
        "ranks=[]\r\n",
        "pointss=[]\r\n",
        "two1=[]\r\n",
        "moredetails=[]\r\n"
      ],
      "execution_count": 86,
      "outputs": []
    },
    {
      "cell_type": "code",
      "metadata": {
        "colab": {
          "base_uri": "https://localhost:8080/"
        },
        "id": "tt9fosY0FATM",
        "outputId": "839e3adc-f55b-43eb-e5b1-596d620e8b6d"
      },
      "source": [
        "\r\n",
        "for zz in range(1,paggggge):\r\n",
        "  driver.find_element_by_xpath('//*[@id=\"leaderboardSponsorVisible\"]/div/div[3]/div/form/input').clear()\r\n",
        "  inputElement.send_keys(zz)\r\n",
        "  inputElement.send_keys(Keys.ENTER)\r\n",
        "  time.sleep(5)\r\n",
        "  ka=table.find_element_by_xpath('//*[@id=\"leaderboardSponsorVisible\"]/div/div[3]/div/div[1]')\r\n",
        "  ka.click()\r\n",
        "  print(zz)\r\n",
        "  for i in range(1,51):\r\n",
        "   names=table.find_elements_by_xpath('//*[@id=\"leaderboardSponsorVisible\"]/div/table/tbody/tr['+str(i)+']/td[2]')\r\n",
        "   rank=table.find_elements_by_xpath('//*[@id=\"leaderboardSponsorVisible\"]/div/table/tbody/tr['+str(i)+']/td[1]')\r\n",
        "   points=table.find_elements_by_xpath('//*[@id=\"leaderboardSponsorVisible\"]/div/table/tbody/tr['+str(i)+']/td[3]')\r\n",
        "   two=table.find_elements_by_xpath('//*[@id=\"leaderboardSponsorVisible\"]/div/table/tbody/tr['+str(i)+']/td[4]')\r\n",
        "   m=driver.find_element_by_xpath('//*[@id=\"leaderboardSponsorVisible\"]/div/table/tbody/tr['+str(i)+']/td[2]/div/div[2]')\r\n",
        "\r\n",
        "\r\n",
        "\r\n",
        "   for td in names :\r\n",
        "        namess.append(td.text)\r\n",
        "   for r in rank :\r\n",
        "       ranks.append(r.text)\r\n",
        "   for w in points :\r\n",
        "        pointss.append(w.text)\r\n",
        "   for t in two :\r\n",
        "        two1.append(t.text)\r\n",
        "\r\n",
        "   moredetails.append(m.text)"
      ],
      "execution_count": 87,
      "outputs": [
        {
          "output_type": "stream",
          "text": [
            "1\n",
            "2\n"
          ],
          "name": "stdout"
        }
      ]
    },
    {
      "cell_type": "code",
      "metadata": {
        "id": "KrT53rk6Yq9W"
      },
      "source": [
        "x['names']=pd.Series(namess)\r\n",
        "x['rank']=pd.Series(ranks)\r\n",
        "x['points']=pd.Series(pointss)\r\n",
        "x['two1']=pd.Series(two1)\r\n",
        "#x['moredetails']=pd.Series(moredetails)\r\n"
      ],
      "execution_count": 88,
      "outputs": []
    },
    {
      "cell_type": "code",
      "metadata": {
        "id": "utX8UcA3gKiz"
      },
      "source": [
        "x.to_csv(\"stas.csv\")"
      ],
      "execution_count": 89,
      "outputs": []
    },
    {
      "cell_type": "code",
      "metadata": {
        "id": "8PjWY7fHSLJw"
      },
      "source": [
        ""
      ],
      "execution_count": 89,
      "outputs": []
    },
    {
      "cell_type": "code",
      "metadata": {
        "id": "rL61BZUs3O-R"
      },
      "source": [
        ""
      ],
      "execution_count": 89,
      "outputs": []
    }
  ]
}