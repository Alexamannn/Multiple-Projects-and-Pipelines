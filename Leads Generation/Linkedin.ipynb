{
  "nbformat": 4,
  "nbformat_minor": 0,
  "metadata": {
    "colab": {
      "name": "Linkedin.ipynb",
      "provenance": []
    },
    "kernelspec": {
      "name": "python3",
      "display_name": "Python 3"
    },
    "language_info": {
      "name": "python"
    }
  },
  "cells": [
    {
      "cell_type": "code",
      "metadata": {
        "id": "8dvfVlq7rgLf"
      },
      "source": [
        "company='accenture'\n",
        "country='spain'\n",
        "additional=''\n",
        "email='accenture.it'"
      ],
      "execution_count": null,
      "outputs": []
    },
    {
      "cell_type": "code",
      "metadata": {
        "colab": {
          "base_uri": "https://localhost:8080/"
        },
        "id": "SiCJOQJ4j1iG",
        "outputId": "97b9d2cd-4e4c-4d1d-b138-bd8c13ea9314"
      },
      "source": [
        "#@title \n",
        "!pip install -q selenium\n",
        "!apt-get update\n",
        "!apt install chromium-chromedriver\n",
        "!cp /usr/lib/chromium-browser/chromedriver /usr/bin\n",
        "import sys\n",
        "sys.path.insert(0,'/usr/lib/chromium-browser/chromedriver')\n",
        "from selenium import webdriver\n",
        "chrome_options = webdriver.ChromeOptions()\n",
        "chrome_options.add_argument('--headless')\n",
        "chrome_options.add_argument('--no-sandbox')\n",
        "chrome_options.add_argument('--disable-dev-shm-usage')"
      ],
      "execution_count": null,
      "outputs": [
        {
          "output_type": "stream",
          "text": [
            "\r0% [Working]\r            \rGet:1 http://security.ubuntu.com/ubuntu bionic-security InRelease [88.7 kB]\n",
            "\r0% [Connecting to archive.ubuntu.com (91.189.88.152)] [1 InRelease 14.2 kB/88.7\r0% [Connecting to archive.ubuntu.com (91.189.88.152)] [Connected to cloud.r-pro\r0% [1 InRelease gpgv 88.7 kB] [Waiting for headers] [Waiting for headers] [Wait\r                                                                               \rIgn:2 https://developer.download.nvidia.com/compute/cuda/repos/ubuntu1804/x86_64  InRelease\n",
            "\r0% [1 InRelease gpgv 88.7 kB] [Waiting for headers] [Waiting for headers] [Wait\r                                                                               \rHit:3 https://cloud.r-project.org/bin/linux/ubuntu bionic-cran40/ InRelease\n",
            "Get:4 http://ppa.launchpad.net/c2d4u.team/c2d4u4.0+/ubuntu bionic InRelease [15.9 kB]\n",
            "Ign:5 https://developer.download.nvidia.com/compute/machine-learning/repos/ubuntu1804/x86_64  InRelease\n",
            "Hit:6 http://archive.ubuntu.com/ubuntu bionic InRelease\n",
            "Hit:7 https://developer.download.nvidia.com/compute/cuda/repos/ubuntu1804/x86_64  Release\n",
            "Hit:8 https://developer.download.nvidia.com/compute/machine-learning/repos/ubuntu1804/x86_64  Release\n",
            "Get:9 http://archive.ubuntu.com/ubuntu bionic-updates InRelease [88.7 kB]\n",
            "Hit:10 http://ppa.launchpad.net/cran/libgit2/ubuntu bionic InRelease\n",
            "Get:11 http://archive.ubuntu.com/ubuntu bionic-backports InRelease [74.6 kB]\n",
            "Hit:12 http://ppa.launchpad.net/deadsnakes/ppa/ubuntu bionic InRelease\n",
            "Hit:13 http://ppa.launchpad.net/graphics-drivers/ppa/ubuntu bionic InRelease\n",
            "Get:16 http://ppa.launchpad.net/c2d4u.team/c2d4u4.0+/ubuntu bionic/main Sources [1,770 kB]\n",
            "Fetched 2,038 kB in 3s (761 kB/s)\n",
            "Reading package lists... Done\n",
            "Reading package lists... Done\n",
            "Building dependency tree       \n",
            "Reading state information... Done\n",
            "chromium-chromedriver is already the newest version (91.0.4472.77-0ubuntu0.18.04.1).\n",
            "0 upgraded, 0 newly installed, 0 to remove and 46 not upgraded.\n",
            "cp: '/usr/lib/chromium-browser/chromedriver' and '/usr/bin/chromedriver' are the same file\n"
          ],
          "name": "stdout"
        }
      ]
    },
    {
      "cell_type": "code",
      "metadata": {
        "id": "HH70UpbpmN9P"
      },
      "source": [
        "from selenium.webdriver.support.ui import WebDriverWait\n",
        "from selenium.webdriver.common.by import By\n",
        "from selenium.webdriver.support import expected_conditions as EC\n",
        "from selenium.webdriver.common.by import By\n",
        "from selenium import webdriver\n",
        "from selenium.webdriver.common.keys import Keys"
      ],
      "execution_count": null,
      "outputs": []
    },
    {
      "cell_type": "code",
      "metadata": {
        "colab": {
          "base_uri": "https://localhost:8080/"
        },
        "id": "c5Yg_41cmPr-",
        "outputId": "6427e6ff-1d42-4308-8deb-1b6119b5877f"
      },
      "source": [
        "from pandas.io.html import read_html\n",
        "from selenium import webdriver\n",
        "import time \n",
        "\n",
        "driver =webdriver.Chrome('chromedriver',chrome_options=chrome_options)\n",
        "\n",
        "\n",
        "driver.get('https://www.linkedin.com/')\n"
      ],
      "execution_count": null,
      "outputs": [
        {
          "output_type": "stream",
          "text": [
            "/usr/local/lib/python3.7/dist-packages/ipykernel_launcher.py:5: DeprecationWarning: use options instead of chrome_options\n",
            "  \"\"\"\n"
          ],
          "name": "stderr"
        }
      ]
    },
    {
      "cell_type": "code",
      "metadata": {
        "id": "z922WbmopDUm"
      },
      "source": [
        "import pickle\n",
        "\n",
        "from selenium import webdriver\n",
        "\n",
        "cookies = pickle.load(open(\"/content/drive/MyDrive/Classroom/cookies.pkl\", \"rb\"))\n",
        "for cookie in cookies:\n",
        "    driver.add_cookie(cookie)"
      ],
      "execution_count": null,
      "outputs": []
    },
    {
      "cell_type": "code",
      "metadata": {
        "id": "J74yOJY_JbMz"
      },
      "source": [
        "driver.get('https://www.linkedin.com/')"
      ],
      "execution_count": null,
      "outputs": []
    },
    {
      "cell_type": "code",
      "metadata": {
        "id": "wIo46-2smfLa"
      },
      "source": [
        "#username = driver.find_element_by_id(\"session_key\")\n",
        "\n",
        "#password = driver.find_element_by_id(\"session_password\")\n",
        "#import time\n",
        "#username.send_keys('baggaaman@protonmail.com')\n",
        "#password.send_keys('9872613085')\n",
        "#driver.find_element_by_xpath(\"/html/body/main/section[1]/div[2]/form/button\").click()"
      ],
      "execution_count": null,
      "outputs": []
    },
    {
      "cell_type": "code",
      "metadata": {
        "id": "xUSZKo_IuDFa"
      },
      "source": [
        "#passw = driver.find_element_by_id(\"input__email_verification_pin\")\n",
        "#passw.send_keys('049896')"
      ],
      "execution_count": null,
      "outputs": []
    },
    {
      "cell_type": "code",
      "metadata": {
        "id": "Ksb-b-A8vu41"
      },
      "source": [
        "#passw.send_keys(Keys.RETURN)"
      ],
      "execution_count": null,
      "outputs": []
    },
    {
      "cell_type": "code",
      "metadata": {
        "id": "AtD0lvxdiWlP"
      },
      "source": [
        "#import pickle\n",
        "#import selenium.webdriver\n",
        "\n",
        "\n",
        "\n",
        "#pickle.dump( driver.get_cookies() , open(\"/content/drive/MyDrive/Classroom/cookies.pkl\",\"wb\"))"
      ],
      "execution_count": null,
      "outputs": []
    },
    {
      "cell_type": "code",
      "metadata": {
        "id": "g3t9GAIAKDvr"
      },
      "source": [
        ""
      ],
      "execution_count": null,
      "outputs": []
    },
    {
      "cell_type": "code",
      "metadata": {
        "id": "QxA-uUKvKf_3"
      },
      "source": [
        "comp=company.replace(\" \", \"%20\")\n",
        "add=additional.replace(\" \",\"%20\")"
      ],
      "execution_count": null,
      "outputs": []
    },
    {
      "cell_type": "code",
      "metadata": {
        "id": "nkfeVX-FbUzb"
      },
      "source": [
        "driver.get('https://www.linkedin.com/search/results/people/?keywords='+comp+'%20'+country+'%20'+add+'&origin=SWITCH_SEARCH_VERTICAL')\n"
      ],
      "execution_count": null,
      "outputs": []
    },
    {
      "cell_type": "code",
      "metadata": {
        "id": "nbH78Xb5DwRN"
      },
      "source": [
        "time.sleep(10)"
      ],
      "execution_count": null,
      "outputs": []
    },
    {
      "cell_type": "code",
      "metadata": {
        "id": "rgUQ6Jli8Knk"
      },
      "source": [
        "driver.maximize_window()"
      ],
      "execution_count": null,
      "outputs": []
    },
    {
      "cell_type": "code",
      "metadata": {
        "id": "YuEMUh0sfS_f"
      },
      "source": [
        "ids = driver.find_elements_by_xpath('//*[@id]')\n",
        "x=[]\n",
        "for ii in ids:\n",
        "  x.append(ii.get_attribute('id'))\n"
      ],
      "execution_count": null,
      "outputs": []
    },
    {
      "cell_type": "code",
      "metadata": {
        "colab": {
          "base_uri": "https://localhost:8080/"
        },
        "id": "L918uhVw7_KU",
        "outputId": "6573e31b-a581-4e4b-dcf5-832fc1c7e05a"
      },
      "source": [
        "driver.save_screenshot('img.png')"
      ],
      "execution_count": null,
      "outputs": [
        {
          "output_type": "execute_result",
          "data": {
            "text/plain": [
              "True"
            ]
          },
          "metadata": {
            "tags": []
          },
          "execution_count": 45
        }
      ]
    },
    {
      "cell_type": "code",
      "metadata": {
        "id": "dSI-j8SLrohy"
      },
      "source": [
        "time.sleep(5)\n",
        "driver.maximize_window()"
      ],
      "execution_count": null,
      "outputs": []
    },
    {
      "cell_type": "code",
      "metadata": {
        "id": "P5DIBRjRfs6v"
      },
      "source": [
        "geo=[]\n",
        "for i in x:\n",
        "  if 'geoUrn' in i:\n",
        "   geo.append(i)"
      ],
      "execution_count": null,
      "outputs": []
    },
    {
      "cell_type": "code",
      "metadata": {
        "id": "6BtLsYQ2Dcdl"
      },
      "source": [
        "driver.maximize_window()"
      ],
      "execution_count": null,
      "outputs": []
    },
    {
      "cell_type": "code",
      "metadata": {
        "id": "GOBg1KmAa3xi"
      },
      "source": [
        "currentcompany=[]\n",
        "for i in x:\n",
        "   if 'currentCompany' in i:\n",
        "     currentcompany.append(i)"
      ],
      "execution_count": null,
      "outputs": []
    },
    {
      "cell_type": "code",
      "metadata": {
        "id": "-OGtJCZhb0PW"
      },
      "source": [
        "import re\n",
        "companyn=re.findall(r'\\d+', currentcompany[0])\n",
        "for i in companyn:\n",
        "  companyk=str(i)"
      ],
      "execution_count": null,
      "outputs": []
    },
    {
      "cell_type": "code",
      "metadata": {
        "id": "4V6WKsXJhWcT"
      },
      "source": [
        "#user = []\n",
        "#url = driver.find_elements_by_xpath(\"//a[@class='app-aware-link']\")\n",
        "#url = driver.find_elements_by_xpath(\"//a[@class='entity-result__primary-subtitle t-14 t-black']\")\n",
        "#unique_hrefs = []\n",
        "#[unique_hrefs.append(x.text) for x in url if x.get_attribute('href') not in unique_hrefs]\n",
        "\n",
        "#for i in unique_hrefs:\n",
        "  #  print(i)"
      ],
      "execution_count": null,
      "outputs": []
    },
    {
      "cell_type": "code",
      "metadata": {
        "id": "nBxNOMCCuyoe"
      },
      "source": [
        "#ids = driver.find_elements_by_xpath('//*[@id]')\n",
        "#for ii in ids:\n",
        " #   print(ii.get_attribute('id'))    # id name as string"
      ],
      "execution_count": null,
      "outputs": []
    },
    {
      "cell_type": "code",
      "metadata": {
        "id": "3IoB75_eo9K2"
      },
      "source": [
        "profiles=[]"
      ],
      "execution_count": null,
      "outputs": []
    },
    {
      "cell_type": "code",
      "metadata": {
        "id": "z672K44ZJ70Q"
      },
      "source": [
        "for k in range(1,4):\n",
        " driver.get('https://www.linkedin.com/search/results/people/?currentCompany=%5B%22'+companyk+'%22%5D&keywords='+comp+'%20'+country+'%20'+add+'&origin=FACETED_SEARCH&page='+str(k))\n",
        " time.sleep(3)\n",
        " for i in range(1,11):\n",
        "  profiles.append(driver.find_element_by_xpath('//*[@id=\"main\"]/div/div/div[2]/ul/li['+str(i)+']').text)"
      ],
      "execution_count": null,
      "outputs": []
    },
    {
      "cell_type": "code",
      "metadata": {
        "id": "ZRa7KEvYaK_N"
      },
      "source": [
        "#search=driver.find_element_by_xpath('/html/body/div[6]/header/div/div/div/button/li-icon')\n",
        "#search.click()"
      ],
      "execution_count": null,
      "outputs": []
    },
    {
      "cell_type": "code",
      "metadata": {
        "id": "77YRqJdBM5cy"
      },
      "source": [
        "#input=driver.find_element_by_xpath('/html/body/div[6]/header/div/div/div/div[1]/div[2]/input')"
      ],
      "execution_count": null,
      "outputs": []
    },
    {
      "cell_type": "code",
      "metadata": {
        "id": "hQtqO3RIdL_0"
      },
      "source": [
        "#input.click()"
      ],
      "execution_count": null,
      "outputs": []
    },
    {
      "cell_type": "code",
      "metadata": {
        "id": "T_cdrECkM4sL"
      },
      "source": [
        "#input.send_keys(company,' ',country,' ',additional)"
      ],
      "execution_count": null,
      "outputs": []
    },
    {
      "cell_type": "code",
      "metadata": {
        "id": "y7f-I2rFfpBf"
      },
      "source": [
        "#input.send_keys(Keys.RETURN)"
      ],
      "execution_count": null,
      "outputs": []
    },
    {
      "cell_type": "code",
      "metadata": {
        "colab": {
          "base_uri": "https://localhost:8080/"
        },
        "id": "t3Sh5aTSWvPa",
        "outputId": "d0b7b176-a185-4e00-e340-a67f038bf348"
      },
      "source": [
        "driver.save_screenshot('img.png')"
      ],
      "execution_count": null,
      "outputs": [
        {
          "output_type": "execute_result",
          "data": {
            "text/plain": [
              "True"
            ]
          },
          "metadata": {
            "tags": []
          },
          "execution_count": 60
        }
      ]
    },
    {
      "cell_type": "code",
      "metadata": {
        "id": "Gdh2_Ea0wJly"
      },
      "source": [
        "import pandas as pd"
      ],
      "execution_count": null,
      "outputs": []
    },
    {
      "cell_type": "code",
      "metadata": {
        "id": "YLR41LQ1vdov"
      },
      "source": [
        "profiledata=pd.DataFrame((pd.DataFrame(profiles)[0].str.split('\\n')))"
      ],
      "execution_count": null,
      "outputs": []
    },
    {
      "cell_type": "code",
      "metadata": {
        "id": "PJAh5crCwM4e"
      },
      "source": [
        "profiledata['len']=profiledata[0].apply(lambda x:len(x))"
      ],
      "execution_count": null,
      "outputs": []
    },
    {
      "cell_type": "code",
      "metadata": {
        "colab": {
          "base_uri": "https://localhost:8080/"
        },
        "id": "74Qbu7W60Tc_",
        "outputId": "9b33d27e-98f6-4e18-cacb-4e29ad268152"
      },
      "source": [
        "profiledata.len.unique()"
      ],
      "execution_count": null,
      "outputs": [
        {
          "output_type": "execute_result",
          "data": {
            "text/plain": [
              "array([ 9, 12,  7, 10, 11,  6])"
            ]
          },
          "metadata": {
            "tags": []
          },
          "execution_count": 64
        }
      ]
    },
    {
      "cell_type": "code",
      "metadata": {
        "id": "RsbHbGm21CQA"
      },
      "source": [
        "pd.set_option('display.max_colwidth', None)"
      ],
      "execution_count": null,
      "outputs": []
    },
    {
      "cell_type": "code",
      "metadata": {
        "id": "RrvtPv4O13w2"
      },
      "source": [
        "names=[]\n",
        "postion=[]\n",
        "area=[]\n",
        "past=[]"
      ],
      "execution_count": null,
      "outputs": []
    },
    {
      "cell_type": "code",
      "metadata": {
        "id": "LCTgVmBz2OdF"
      },
      "source": [
        "profiledata1=pd.DataFrame((pd.DataFrame(profiles)[0].str.split('\\n',expand=True))).join(profiledata['len'])"
      ],
      "execution_count": null,
      "outputs": []
    },
    {
      "cell_type": "code",
      "metadata": {
        "id": "EEt6E14WVElV"
      },
      "source": [
        "import pandas as pd\n",
        "profiledata=pd.DataFrame(profiles)[0].str.split('\\n',expand=True)"
      ],
      "execution_count": null,
      "outputs": []
    },
    {
      "cell_type": "code",
      "metadata": {
        "id": "BdqdeTKBVHtJ"
      },
      "source": [
        "profiledata=profiledata[[0,3,4,5]]"
      ],
      "execution_count": null,
      "outputs": []
    },
    {
      "cell_type": "code",
      "metadata": {
        "colab": {
          "base_uri": "https://localhost:8080/",
          "height": 1000
        },
        "id": "vwrea6M3WWk_",
        "outputId": "f46aa88e-5f1f-418c-86ae-8e44d847d8f6"
      },
      "source": [
        "profiledata"
      ],
      "execution_count": null,
      "outputs": [
        {
          "output_type": "execute_result",
          "data": {
            "text/html": [
              "<div>\n",
              "<style scoped>\n",
              "    .dataframe tbody tr th:only-of-type {\n",
              "        vertical-align: middle;\n",
              "    }\n",
              "\n",
              "    .dataframe tbody tr th {\n",
              "        vertical-align: top;\n",
              "    }\n",
              "\n",
              "    .dataframe thead th {\n",
              "        text-align: right;\n",
              "    }\n",
              "</style>\n",
              "<table border=\"1\" class=\"dataframe\">\n",
              "  <thead>\n",
              "    <tr style=\"text-align: right;\">\n",
              "      <th></th>\n",
              "      <th>0</th>\n",
              "      <th>3</th>\n",
              "      <th>4</th>\n",
              "      <th>5</th>\n",
              "    </tr>\n",
              "  </thead>\n",
              "  <tbody>\n",
              "    <tr>\n",
              "      <th>0</th>\n",
              "      <td>Ines Guzman</td>\n",
              "      <td>Chief Executive - Spain, Portugal &amp; Israel - Operations @Accenture</td>\n",
              "      <td>Madrid</td>\n",
              "      <td>Current: Chief Executive - Spain, Portugal &amp; Israel - Operations at</td>\n",
              "    </tr>\n",
              "    <tr>\n",
              "      <th>1</th>\n",
              "      <td>Jesús E. Gabaldón, PhD</td>\n",
              "      <td>Analytics &amp; Data Science Senior Manager at Accenture</td>\n",
              "      <td>Greater Barcelona Metropolitan Area</td>\n",
              "      <td>Current: Analytics Senior Manager at Accenture</td>\n",
              "    </tr>\n",
              "    <tr>\n",
              "      <th>2</th>\n",
              "      <td>Anna Stanganella</td>\n",
              "      <td>Strategy &amp; Consulting Consultant at Accenture</td>\n",
              "      <td>Milan</td>\n",
              "      <td>Past: Technology Consulting Analyst at Accenture</td>\n",
              "    </tr>\n",
              "    <tr>\n",
              "      <th>3</th>\n",
              "      <td>Domingo Mirón</td>\n",
              "      <td>Chief Risk Officer and President at Accenture in Iberia (Spain, Portugal and Israel)</td>\n",
              "      <td>Madrid</td>\n",
              "      <td>Current: President - Spain, Portugal and Israel at</td>\n",
              "    </tr>\n",
              "    <tr>\n",
              "      <th>4</th>\n",
              "      <td>Robert Gimeno</td>\n",
              "      <td>Managing Director Accenture Applied Intelligence - Strategy &amp; Consulting</td>\n",
              "      <td>Barcelona</td>\n",
              "      <td>Current: Managing Director at Accenture</td>\n",
              "    </tr>\n",
              "    <tr>\n",
              "      <th>5</th>\n",
              "      <td>Maria Liano</td>\n",
              "      <td>CFO Accenture Europe</td>\n",
              "      <td>Pozuelo de Alarcón</td>\n",
              "      <td>Current: CFO Accenture Europe at Accenture</td>\n",
              "    </tr>\n",
              "    <tr>\n",
              "      <th>6</th>\n",
              "      <td>Alvaro Polo</td>\n",
              "      <td>Industry X.0 Strategy MD at Accenture Strategy</td>\n",
              "      <td>Madrid</td>\n",
              "      <td>Current: ...for Spain, Portugal and Israel, atStrategy atStrategy</td>\n",
              "    </tr>\n",
              "    <tr>\n",
              "      <th>7</th>\n",
              "      <td>Cristina Domenech Moreno</td>\n",
              "      <td>Software Developer at Accenture</td>\n",
              "      <td>Málaga</td>\n",
              "      <td>Diego Leonel Luna López</td>\n",
              "    </tr>\n",
              "    <tr>\n",
              "      <th>8</th>\n",
              "      <td>Janire Salmón</td>\n",
              "      <td>IT Talent Acquisition Partner at Accenture</td>\n",
              "      <td>Bilbao-Bilbo</td>\n",
              "      <td>Current: Talent Acquisition at Accenture</td>\n",
              "    </tr>\n",
              "    <tr>\n",
              "      <th>9</th>\n",
              "      <td>Mirenchu Echeverri</td>\n",
              "      <td>Managing Director Accenture | Salesforce Business Group Lead, Iberia at Accenture || AMETIC Comite Ejecutivo</td>\n",
              "      <td>Barcelona</td>\n",
              "      <td>Current: Managing Director Accenture | Salesforce Business Group Lead, Iberia at</td>\n",
              "    </tr>\n",
              "    <tr>\n",
              "      <th>10</th>\n",
              "      <td>Miguel Flecha</td>\n",
              "      <td>Managing Director Accenture | European Head of Travel &amp; Hospitality | Transformation through innovation</td>\n",
              "      <td>Madrid</td>\n",
              "      <td>Current: Managing Director - Travel industry lead for Europe at</td>\n",
              "    </tr>\n",
              "    <tr>\n",
              "      <th>11</th>\n",
              "      <td>Mercedes Oblanca Rojo</td>\n",
              "      <td>Managing Director | Head for Products Client Group in Iberia at Accenture</td>\n",
              "      <td>Madrid</td>\n",
              "      <td>Current: Accenture Managing Director | Head for Products Client Group in Iberia at</td>\n",
              "    </tr>\n",
              "    <tr>\n",
              "      <th>12</th>\n",
              "      <td>Maria Fernandez Menendez</td>\n",
              "      <td>Digital Transformation Consultant at Accenture Spain | MBA</td>\n",
              "      <td>Madrid</td>\n",
              "      <td>Current: Digital Transformation Consultant at</td>\n",
              "    </tr>\n",
              "    <tr>\n",
              "      <th>13</th>\n",
              "      <td>Marina Fernández Sánchez</td>\n",
              "      <td>Consultant at Accenture Stategy | Master Degree Big Data and Business Analytics | Data Science | Mathematics</td>\n",
              "      <td>Madrid</td>\n",
              "      <td>Current: Consultant at Accenture Strategy</td>\n",
              "    </tr>\n",
              "    <tr>\n",
              "      <th>14</th>\n",
              "      <td>Vincenzo Criscuolo</td>\n",
              "      <td>Managing Director at Accenture</td>\n",
              "      <td>Milan</td>\n",
              "      <td>Past: Senior Manager at Accenture</td>\n",
              "    </tr>\n",
              "    <tr>\n",
              "      <th>15</th>\n",
              "      <td>ANDREA NAVARRO FERNANDEZ</td>\n",
              "      <td>Technology Consulting Analyst at Accenture Spain</td>\n",
              "      <td>Bilbao-Bilbo</td>\n",
              "      <td>Current: Technology Consulting Analyst atat</td>\n",
              "    </tr>\n",
              "    <tr>\n",
              "      <th>16</th>\n",
              "      <td>Lucas Moreira Guimarães</td>\n",
              "      <td>Data Scientist | Deep Learning Expert | Certified Google Cloud Professional Data Engineer</td>\n",
              "      <td>Madrid</td>\n",
              "      <td>Current: Data Scientist at Accenture</td>\n",
              "    </tr>\n",
              "    <tr>\n",
              "      <th>17</th>\n",
              "      <td>Héctor Castillo Aguiar</td>\n",
              "      <td>Business Design &amp; Innovation at Accenture | EMBA Candidate | #IamRemarkable facilitator | UX &amp; Service Design | Startup Co-Founder</td>\n",
              "      <td>Madrid</td>\n",
              "      <td>Current: Business Design and Innovation - T&amp;O Cross-Industry at</td>\n",
              "    </tr>\n",
              "    <tr>\n",
              "      <th>18</th>\n",
              "      <td>Luis Villa del Campo</td>\n",
              "      <td>Principal Director - Growth &amp; Strategy Europe at Accenture</td>\n",
              "      <td>Greater Madrid Metropolitan Area</td>\n",
              "      <td>Current: Principal Director - Growth &amp; StrategyEurope at</td>\n",
              "    </tr>\n",
              "    <tr>\n",
              "      <th>19</th>\n",
              "      <td>Xabier Mitxelena</td>\n",
              "      <td>MANAGING DIRECTOR. Iberia Security Lead. ACCENTURE</td>\n",
              "      <td>San Sebastián</td>\n",
              "      <td>Current: MANAGING DIRECTOR. IBERIA SECURITY LEAD ATat</td>\n",
              "    </tr>\n",
              "    <tr>\n",
              "      <th>20</th>\n",
              "      <td>Francois-Xavier BOURBIGOT</td>\n",
              "      <td>Managing Director - Accenture Strategy</td>\n",
              "      <td>Barcelona</td>\n",
              "      <td>Current: Managing Director at Accenture</td>\n",
              "    </tr>\n",
              "    <tr>\n",
              "      <th>21</th>\n",
              "      <td>Accenture Digital Delivery Spain</td>\n",
              "      <td>Recruiting Profile for Accenture Digital Delivery in Spain</td>\n",
              "      <td>Madrid</td>\n",
              "      <td>Current: Recruiting Profile at Accenture</td>\n",
              "    </tr>\n",
              "    <tr>\n",
              "      <th>22</th>\n",
              "      <td>Jose Luis Sancho</td>\n",
              "      <td>Senior Managing Director. Accenture. Lead - Growth &amp; Strategy, Innovation. Spain, Portugal, Israel.</td>\n",
              "      <td>Greater Madrid Metropolitan Area</td>\n",
              "      <td>Current: Fundación Accenture - Member of the Board atEspaña</td>\n",
              "    </tr>\n",
              "    <tr>\n",
              "      <th>23</th>\n",
              "      <td>☁ Ricardo J. Rodriguez Perez</td>\n",
              "      <td>Technology Strategy Manager | MBA | Google Cloud &amp; AWS Certified</td>\n",
              "      <td>Greater Madrid Metropolitan Area</td>\n",
              "      <td>Current: Technology Strategy Manager at Accenture</td>\n",
              "    </tr>\n",
              "    <tr>\n",
              "      <th>24</th>\n",
              "      <td>Alberto Zamora</td>\n",
              "      <td>Managing Director - Accenture Strategy Lead, Spain, Portugal, Israel</td>\n",
              "      <td>Greater Madrid Metropolitan Area</td>\n",
              "      <td>Current: Managing Director. Health &amp; Public Service lead for, Portugal and Israel at</td>\n",
              "    </tr>\n",
              "    <tr>\n",
              "      <th>25</th>\n",
              "      <td>Javier Puente Aller</td>\n",
              "      <td>IT Risk Consultant in PWC Spain</td>\n",
              "      <td>Madrid</td>\n",
              "      <td>Current: Security Delivery Senior Analyst at Accenture</td>\n",
              "    </tr>\n",
              "    <tr>\n",
              "      <th>26</th>\n",
              "      <td>Violeta Costa</td>\n",
              "      <td>Responsable Gobierno y Sector Público de Accenture en País Vasco| Transformacion Digital | Client Account Leadership Senior Manager</td>\n",
              "      <td>Greater Bilbao Metropolitan Area</td>\n",
              "      <td>Current: Client Account Leadership. Health&amp;Public Services at</td>\n",
              "    </tr>\n",
              "    <tr>\n",
              "      <th>27</th>\n",
              "      <td>Miguel Vergara</td>\n",
              "      <td>Accenture Strategy Iberia Lead - Spain | Portugal | Israel</td>\n",
              "      <td>Greater Madrid Metropolitan Area</td>\n",
              "      <td>Current: Managing Director - Accenture Strategy Iberia Lead |, Portugal, Israel at</td>\n",
              "    </tr>\n",
              "    <tr>\n",
              "      <th>28</th>\n",
              "      <td>Laura Aguilar</td>\n",
              "      <td>Managing Director at Accenture</td>\n",
              "      <td>Barcelona</td>\n",
              "      <td>Message</td>\n",
              "    </tr>\n",
              "    <tr>\n",
              "      <th>29</th>\n",
              "      <td>Benigno Herrería</td>\n",
              "      <td>Managing Director at Accenture Strategy</td>\n",
              "      <td>Greater Madrid Metropolitan Area</td>\n",
              "      <td>Summary: Managing Director at Accenture Strategy based in Madrid where he leads the Competitiveness (ZBx...</td>\n",
              "    </tr>\n",
              "  </tbody>\n",
              "</table>\n",
              "</div>"
            ],
            "text/plain": [
              "                                   0  ...                                                                                                            5\n",
              "0                        Ines Guzman  ...                                          Current: Chief Executive - Spain, Portugal & Israel - Operations at\n",
              "1             Jesús E. Gabaldón, PhD  ...                                                               Current: Analytics Senior Manager at Accenture\n",
              "2                   Anna Stanganella  ...                                                             Past: Technology Consulting Analyst at Accenture\n",
              "3                      Domingo Mirón  ...                                                           Current: President - Spain, Portugal and Israel at\n",
              "4                      Robert Gimeno  ...                                                                      Current: Managing Director at Accenture\n",
              "5                        Maria Liano  ...                                                                   Current: CFO Accenture Europe at Accenture\n",
              "6                        Alvaro Polo  ...                                            Current: ...for Spain, Portugal and Israel, atStrategy atStrategy\n",
              "7           Cristina Domenech Moreno  ...                                                                                      Diego Leonel Luna López\n",
              "8                      Janire Salmón  ...                                                                     Current: Talent Acquisition at Accenture\n",
              "9                 Mirenchu Echeverri  ...                             Current: Managing Director Accenture | Salesforce Business Group Lead, Iberia at\n",
              "10                     Miguel Flecha  ...                                              Current: Managing Director - Travel industry lead for Europe at\n",
              "11             Mercedes Oblanca Rojo  ...                           Current: Accenture Managing Director | Head for Products Client Group in Iberia at\n",
              "12          Maria Fernandez Menendez  ...                                                                Current: Digital Transformation Consultant at\n",
              "13          Marina Fernández Sánchez  ...                                                                    Current: Consultant at Accenture Strategy\n",
              "14                Vincenzo Criscuolo  ...                                                                            Past: Senior Manager at Accenture\n",
              "15          ANDREA NAVARRO FERNANDEZ  ...                                                                  Current: Technology Consulting Analyst atat\n",
              "16           Lucas Moreira Guimarães  ...                                                                         Current: Data Scientist at Accenture\n",
              "17            Héctor Castillo Aguiar  ...                                              Current: Business Design and Innovation - T&O Cross-Industry at\n",
              "18              Luis Villa del Campo  ...                                                     Current: Principal Director - Growth & StrategyEurope at\n",
              "19                  Xabier Mitxelena  ...                                                        Current: MANAGING DIRECTOR. IBERIA SECURITY LEAD ATat\n",
              "20         Francois-Xavier BOURBIGOT  ...                                                                      Current: Managing Director at Accenture\n",
              "21  Accenture Digital Delivery Spain  ...                                                                     Current: Recruiting Profile at Accenture\n",
              "22                  Jose Luis Sancho  ...                                                  Current: Fundación Accenture - Member of the Board atEspaña\n",
              "23      ☁ Ricardo J. Rodriguez Perez  ...                                                            Current: Technology Strategy Manager at Accenture\n",
              "24                    Alberto Zamora  ...                         Current: Managing Director. Health & Public Service lead for, Portugal and Israel at\n",
              "25               Javier Puente Aller  ...                                                       Current: Security Delivery Senior Analyst at Accenture\n",
              "26                     Violeta Costa  ...                                                Current: Client Account Leadership. Health&Public Services at\n",
              "27                    Miguel Vergara  ...                           Current: Managing Director - Accenture Strategy Iberia Lead |, Portugal, Israel at\n",
              "28                     Laura Aguilar  ...                                                                                                      Message\n",
              "29                  Benigno Herrería  ...  Summary: Managing Director at Accenture Strategy based in Madrid where he leads the Competitiveness (ZBx...\n",
              "\n",
              "[30 rows x 4 columns]"
            ]
          },
          "metadata": {
            "tags": []
          },
          "execution_count": 70
        }
      ]
    },
    {
      "cell_type": "code",
      "metadata": {
        "id": "QoFilYLOJhIv"
      },
      "source": [
        "driver.maximize_window()"
      ],
      "execution_count": null,
      "outputs": []
    },
    {
      "cell_type": "code",
      "metadata": {
        "colab": {
          "base_uri": "https://localhost:8080/"
        },
        "id": "UDs0wxOyqK0l",
        "outputId": "c54016ee-4f49-4b54-aa2c-897a89f39558"
      },
      "source": [
        "!pip install email-permutations\n",
        "!pip install unidecode"
      ],
      "execution_count": null,
      "outputs": [
        {
          "output_type": "stream",
          "text": [
            "Collecting email-permutations\n",
            "  Downloading https://files.pythonhosted.org/packages/12/05/a7ac1a25ec3f4b5cf5299deb61230b26c586e590a7e78ed58a7bbca7c93c/email_permutations-0.6.0-py3-none-any.whl\n",
            "Installing collected packages: email-permutations\n",
            "Successfully installed email-permutations-0.6.0\n",
            "Collecting unidecode\n",
            "\u001b[?25l  Downloading https://files.pythonhosted.org/packages/9e/25/723487ca2a52ebcee88a34d7d1f5a4b80b793f179ee0f62d5371938dfa01/Unidecode-1.2.0-py2.py3-none-any.whl (241kB)\n",
            "\u001b[K     |████████████████████████████████| 245kB 3.8MB/s \n",
            "\u001b[?25hInstalling collected packages: unidecode\n",
            "Successfully installed unidecode-1.2.0\n"
          ],
          "name": "stdout"
        }
      ]
    },
    {
      "cell_type": "code",
      "metadata": {
        "id": "DOANiZxjqN1o"
      },
      "source": [
        "from permutations import email_permuter\n",
        "import unidecode\n",
        "permuted=[]\n",
        "names=profiledata[0].values\n",
        "for i in range(len(names)):\n",
        "  names1=names[i].split()\n",
        "  if len(names1)==2:\n",
        "    first=unidecode.unidecode(names1[0])\n",
        "    last=unidecode.unidecode(names1[1])\n",
        "  elif len(names1)==3:\n",
        "    first=unidecode.unidecode(names1[0])\n",
        "    last=unidecode.unidecode(names1[2])\n",
        "  permuted_emails = email_permuter.all_email_permuter(first_name=first,\n",
        "\tlast_name=last,\n",
        "\tdomain_name=email\n",
        "\t)\n",
        "  \n",
        "  permuted.append(permuted_emails)"
      ],
      "execution_count": null,
      "outputs": []
    },
    {
      "cell_type": "code",
      "metadata": {
        "id": "x7O7PjqLub_3"
      },
      "source": [
        "with open('/content/drive/MyDrive/Classroom/email.pkl', 'wb') as f:\n",
        "  pickle.dump(permuted, f)"
      ],
      "execution_count": null,
      "outputs": []
    }
  ]
}